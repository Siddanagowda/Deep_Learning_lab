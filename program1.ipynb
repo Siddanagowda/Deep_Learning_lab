{
 "cells": [
  {
   "cell_type": "code",
   "execution_count": null,
   "id": "7d71372d",
   "metadata": {
    "vscode": {
     "languageId": "plaintext"
    }
   },
   "outputs": [],
   "source": [
    "### program - 1\n",
    "\n",
    "import numpy as np\n",
    "import matplotlib.pyplot as plt\n",
    "\n",
    "def sigmoid(x):\n",
    "    return 1 / (1 + np.exp(-x))\n",
    "\n",
    "def relu(x):\n",
    "    return np.maximum(0, x)\n",
    "\n",
    "def tanh(x):\n",
    "    return np.tanh(x)\n",
    "\n",
    "def softmax(x):\n",
    "    exp_x = np.exp(x - np.max(x))\n",
    "    return exp_x / np.sum(exp_x)\n",
    "\n",
    "def adjusted_lr(lr, ep, dr=0.1, de=10):\n",
    "    return lr * (1 / (1 + dr * (ep // de)))\n",
    "\n",
    "\n",
    "# inputs\n",
    "x = np.linspace(-10, 10, 100)\n",
    "\n",
    "fig, axes = plt.subplots(2, 2, figsize=(12, 8))\n",
    "axes = axes.ravel()\n",
    "\n",
    "function = [(sigmoid, \"sigmoid\"), (relu, \"relu\"), (tanh, \"tanh\")]\n",
    "\n",
    "for i, (func, title) in enumerate(function):\n",
    "    y = func(x)\n",
    "    axes[i].plot(x,y)\n",
    "    axes[i].set_title(title)\n",
    "    axes[i].grid()\n",
    "\n",
    "x_softmax = np.linspace(-2,2,5)\n",
    "y_softmax = softmax(x_softmax)\n",
    "axes[3].plot(x_softmax,y_softmax)\n",
    "axes[3].set_title(\"softmax\")\n",
    "axes[3].grid()\n",
    "plt.tight_layout()\n",
    "plt.show()\n",
    "\n",
    "lr = 0.1\n",
    "epoch = 20\n",
    "print(\"Adjusted learning rate \",adjusted_lr(lr, epoch))"
   ]
  },
  {
   "cell_type": "code",
   "execution_count": null,
   "id": "fea992f5",
   "metadata": {
    "vscode": {
     "languageId": "plaintext"
    }
   },
   "outputs": [],
   "source": [
    "lr = 0.1\n",
    "epoch = 20\n",
    "\n",
    "x = np.linspace(0, epoch, epoch)\n",
    "y = np.zeros(epoch)\n",
    "\n",
    "for i in range(epoch):\n",
    "    y[i] = adjusted_lr(lr, i)\n",
    "\n",
    "plt.plot(x, y, marker='o')\n",
    "plt.xlabel('epoch')\n",
    "plt.ylabel('lr')\n",
    "plt.title('lr decay')\n",
    "plt.show()"
   ]
  }
 ],
 "metadata": {
  "language_info": {
   "name": "python"
  }
 },
 "nbformat": 4,
 "nbformat_minor": 5
}
