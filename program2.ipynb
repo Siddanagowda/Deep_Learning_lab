{
 "cells": [
  {
   "cell_type": "code",
   "execution_count": null,
   "id": "9fbaa10f",
   "metadata": {
    "vscode": {
     "languageId": "plaintext"
    }
   },
   "outputs": [],
   "source": [
    "# Program - 2\n",
    "# Implementing the xor \n",
    "\n",
    "import numpy as np\n",
    "\n",
    "def sigmoid(x):\n",
    "    return 1 / (1 + np.exp(-x))\n",
    "\n",
    "def sigmoid_d(x):\n",
    "    return x * (1 - x)\n",
    "\n",
    "class NeuralNetwork:\n",
    "    def __init__(self, input_size, hidden_size, output_size):\n",
    "        self.input_size = input_size\n",
    "        self.hidden_size = hidden_size\n",
    "        self.output_size = output_size\n",
    "\n",
    "        self.w_i_h = np.random.randn(input_size, hidden_size)\n",
    "        self.b_h = np.random.randn(1, hidden_size)\n",
    "        self.w_h_o = np.random.randn(hidden_size, output_size)\n",
    "        self.b_o = np.random.randn(1, output_size)\n",
    "\n",
    "    def forward(self, x):\n",
    "        self.h_a = np.dot(x, self.w_i_h) + self.b_h\n",
    "        self.h_o = sigmoid(self.h_a)\n",
    "\n",
    "        self.o_a = np.dot(self.h_o, self.w_h_o) + self.b_o\n",
    "        self.o_o = sigmoid(self.o_a)\n",
    "\n",
    "        return self.o_o\n",
    "\n",
    "    def backward(self, x, y, output, lr):\n",
    "        e = y - output\n",
    "        d_o = e * sigmoid_d(output)\n",
    "        e_h = d_o.dot(self.w_h_o.T)\n",
    "        d_h = e_h * sigmoid_d(self.h_o)\n",
    "\n",
    "        self.w_h_o += self.h_o.T.dot(d_o) * lr\n",
    "        self.b_o += np.sum(d_o, axis=0, keepdims=True) * lr\n",
    "        self.w_i_h += x.T.dot(d_h) * lr\n",
    "        self.b_h += np.sum(d_h, axis=0, keepdims=True) * lr\n",
    "\n",
    "\n",
    "x = np.array([[0,0], [1,0], [0,1], [1,1]])\n",
    "y = np.array([[0], [1], [1], [0]])\n",
    "\n",
    "input_size, hidden_size, output_size = 2, 4, 1\n",
    "lr = 0.1\n",
    "epochs = 10000\n",
    "\n",
    "nn = NeuralNetwork(input_size, hidden_size, output_size)\n",
    "\n",
    "# train\n",
    "for i in range(epochs):\n",
    "    output = nn.forward(x)\n",
    "    nn.backward(x, y, output, lr)\n",
    "\n",
    "print(\"predicting outputs \")\n",
    "print(nn.forward(x))"
   ]
  }
 ],
 "metadata": {
  "language_info": {
   "name": "python"
  }
 },
 "nbformat": 4,
 "nbformat_minor": 5
}
